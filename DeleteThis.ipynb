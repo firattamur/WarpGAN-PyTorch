{
 "cells": [
  {
   "cell_type": "code",
   "execution_count": 1,
   "id": "408c7765",
   "metadata": {},
   "outputs": [],
   "source": [
    "import torch\n",
    "import torch.nn as nn\n",
    "import tensorflow as tf"
   ]
  },
  {
   "cell_type": "code",
   "execution_count": 2,
   "id": "85fb8f88",
   "metadata": {},
   "outputs": [],
   "source": [
    "class CustomUpScale2d(nn.Module):\n",
    "    \"\"\"\n",
    "\n",
    "    Upscales an input tensor by specified factor. \n",
    "    Upscaling done by torch.tile: https://pytorch.org/docs/stable/generated/torch.tile.html\n",
    "\n",
    "    \"\"\"\n",
    "\n",
    "    def __init__(self, factor: int = 2):\n",
    "        \"\"\"\n",
    "        \n",
    "        :param factor: scaling factor.\n",
    "        \n",
    "        \"\"\"\n",
    "        super(CustomUpScale2d, self).__init__()\n",
    "\n",
    "        assert factor >= 1, \"Scaling factor must be greater than 0!\"\n",
    "\n",
    "        self.factor = factor\n",
    "\n",
    "\n",
    "    def forward(self, x) -> torch.Tensor:\n",
    "        \"\"\"\n",
    "        \n",
    "        :param x: torch.Tensor\n",
    "            :shape: (b, c, h, w)\n",
    "        \n",
    "        :return : torch.Tensor\n",
    "            :shape: (b, c, h * self.factor, w * self.factor)\n",
    "\n",
    "        \"\"\"\n",
    "\n",
    "        shape = x.shape\n",
    "\n",
    "        # input : (b, c, h, w)\n",
    "        # output: (b, c, h, 1, w, 1)\n",
    "        x = torch.reshape(x, (-1, shape[1], shape[2], 1, shape[3], 1))\n",
    "\n",
    "        # input : (b, c, h, 1, w, 1)\n",
    "        # output: (b, c, h, self.factor, w, self.factor)\n",
    "        x = torch.tile(x, (1, 1, 1, self.factor, 1, self.factor))\n",
    "\n",
    "        # input : (b, c, h, self.factor, w, self.factor)\n",
    "        # output: (b, c, h * self.factor, w * self.factor)\n",
    "        x = torch.reshape(x, (-1, shape[1], shape[2] * self.factor, shape[3] * self.factor)) \n",
    "\n",
    "        return x"
   ]
  },
  {
   "cell_type": "code",
   "execution_count": 19,
   "id": "9ed18503",
   "metadata": {},
   "outputs": [],
   "source": [
    "def upscale2d(x, factor=2):\n",
    "    assert isinstance(factor, int) and factor >= 1\n",
    "    \n",
    "    if factor == 1: return x\n",
    "    \n",
    "    s = x.shape\n",
    "    x = tf.reshape(x, [-1, s[1], s[2], 1, s[3], 1])\n",
    "    x = tf.tile(x, [1, 1, 1, factor, 1, factor])\n",
    "    x = tf.reshape(x, [-1, s[1], s[2] * factor, s[3] * factor])\n",
    "    return x"
   ]
  },
  {
   "cell_type": "code",
   "execution_count": 20,
   "id": "8a89158d",
   "metadata": {},
   "outputs": [],
   "source": [
    "a = torch.rand((2, 2, 2, 2), requires_grad=False)"
   ]
  },
  {
   "cell_type": "code",
   "execution_count": 27,
   "id": "eda57486",
   "metadata": {},
   "outputs": [
    {
     "data": {
      "text/plain": [
       "torch.Size([2, 2, 2, 2])"
      ]
     },
     "execution_count": 27,
     "metadata": {},
     "output_type": "execute_result"
    }
   ],
   "source": [
    "a.shape"
   ]
  },
  {
   "cell_type": "code",
   "execution_count": 28,
   "id": "3b18ba24",
   "metadata": {},
   "outputs": [
    {
     "data": {
      "text/plain": [
       "<tf.Tensor: shape=(2, 2, 4, 4), dtype=float32, numpy=\n",
       "array([[[[0.6254536 , 0.6254536 , 0.3439632 , 0.3439632 ],\n",
       "         [0.6254536 , 0.6254536 , 0.3439632 , 0.3439632 ],\n",
       "         [0.12942779, 0.12942779, 0.3274418 , 0.3274418 ],\n",
       "         [0.12942779, 0.12942779, 0.3274418 , 0.3274418 ]],\n",
       "\n",
       "        [[0.00451815, 0.00451815, 0.40985316, 0.40985316],\n",
       "         [0.00451815, 0.00451815, 0.40985316, 0.40985316],\n",
       "         [0.92387766, 0.92387766, 0.34538257, 0.34538257],\n",
       "         [0.92387766, 0.92387766, 0.34538257, 0.34538257]]],\n",
       "\n",
       "\n",
       "       [[[0.5654647 , 0.5654647 , 0.71000516, 0.71000516],\n",
       "         [0.5654647 , 0.5654647 , 0.71000516, 0.71000516],\n",
       "         [0.29286325, 0.29286325, 0.7952678 , 0.7952678 ],\n",
       "         [0.29286325, 0.29286325, 0.7952678 , 0.7952678 ]],\n",
       "\n",
       "        [[0.6335821 , 0.6335821 , 0.36711532, 0.36711532],\n",
       "         [0.6335821 , 0.6335821 , 0.36711532, 0.36711532],\n",
       "         [0.27536094, 0.27536094, 0.60316616, 0.60316616],\n",
       "         [0.27536094, 0.27536094, 0.60316616, 0.60316616]]]],\n",
       "      dtype=float32)>"
      ]
     },
     "execution_count": 28,
     "metadata": {},
     "output_type": "execute_result"
    }
   ],
   "source": [
    "upscale2d(a)"
   ]
  },
  {
   "cell_type": "code",
   "execution_count": 29,
   "id": "c329a431",
   "metadata": {},
   "outputs": [],
   "source": [
    "scale = CustomUpScale2d(factor=2)"
   ]
  },
  {
   "cell_type": "code",
   "execution_count": 30,
   "id": "9279ee84",
   "metadata": {},
   "outputs": [
    {
     "data": {
      "text/plain": [
       "tensor([[[[0.6255, 0.6255, 0.3440, 0.3440],\n",
       "          [0.6255, 0.6255, 0.3440, 0.3440],\n",
       "          [0.1294, 0.1294, 0.3274, 0.3274],\n",
       "          [0.1294, 0.1294, 0.3274, 0.3274]],\n",
       "\n",
       "         [[0.0045, 0.0045, 0.4099, 0.4099],\n",
       "          [0.0045, 0.0045, 0.4099, 0.4099],\n",
       "          [0.9239, 0.9239, 0.3454, 0.3454],\n",
       "          [0.9239, 0.9239, 0.3454, 0.3454]]],\n",
       "\n",
       "\n",
       "        [[[0.5655, 0.5655, 0.7100, 0.7100],\n",
       "          [0.5655, 0.5655, 0.7100, 0.7100],\n",
       "          [0.2929, 0.2929, 0.7953, 0.7953],\n",
       "          [0.2929, 0.2929, 0.7953, 0.7953]],\n",
       "\n",
       "         [[0.6336, 0.6336, 0.3671, 0.3671],\n",
       "          [0.6336, 0.6336, 0.3671, 0.3671],\n",
       "          [0.2754, 0.2754, 0.6032, 0.6032],\n",
       "          [0.2754, 0.2754, 0.6032, 0.6032]]]])"
      ]
     },
     "execution_count": 30,
     "metadata": {},
     "output_type": "execute_result"
    }
   ],
   "source": [
    "scale(a)"
   ]
  },
  {
   "cell_type": "code",
   "execution_count": null,
   "id": "64577708",
   "metadata": {},
   "outputs": [],
   "source": []
  }
 ],
 "metadata": {
  "kernelspec": {
   "display_name": "Python 3 (ipykernel)",
   "language": "python",
   "name": "python3"
  },
  "language_info": {
   "codemirror_mode": {
    "name": "ipython",
    "version": 3
   },
   "file_extension": ".py",
   "mimetype": "text/x-python",
   "name": "python",
   "nbconvert_exporter": "python",
   "pygments_lexer": "ipython3",
   "version": "3.8.12"
  },
  "varInspector": {
   "cols": {
    "lenName": 16,
    "lenType": 16,
    "lenVar": 40
   },
   "kernels_config": {
    "python": {
     "delete_cmd_postfix": "",
     "delete_cmd_prefix": "del ",
     "library": "var_list.py",
     "varRefreshCmd": "print(var_dic_list())"
    },
    "r": {
     "delete_cmd_postfix": ") ",
     "delete_cmd_prefix": "rm(",
     "library": "var_list.r",
     "varRefreshCmd": "cat(var_dic_list()) "
    }
   },
   "types_to_exclude": [
    "module",
    "function",
    "builtin_function_or_method",
    "instance",
    "_Feature"
   ],
   "window_display": false
  }
 },
 "nbformat": 4,
 "nbformat_minor": 5
}
