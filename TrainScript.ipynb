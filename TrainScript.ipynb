{
 "cells": [
  {
   "cell_type": "code",
   "execution_count": 1,
   "id": "c087b738",
   "metadata": {},
   "outputs": [],
   "source": [
    "%load_ext autoreload\n",
    "%autoreload 2"
   ]
  },
  {
   "cell_type": "code",
   "execution_count": 2,
   "id": "95f326cf",
   "metadata": {},
   "outputs": [
    {
     "name": "stdout",
     "output_type": "stream",
     "text": [
      "Random Seed:  999\n"
     ]
    },
    {
     "data": {
      "text/plain": [
       "<torch._C.Generator at 0x7fab1a856b10>"
      ]
     },
     "execution_count": 2,
     "metadata": {},
     "output_type": "execute_result"
    }
   ],
   "source": [
    "from __future__ import print_function\n",
    "\n",
    "#%matplotlib inline\n",
    "\n",
    "import os\n",
    "import random\n",
    "\n",
    "import torch\n",
    "import torch.nn as nn\n",
    "import torch.optim as optim\n",
    "\n",
    "import torch.utils.data\n",
    "import torchvision.datasets as dset\n",
    "from torch.utils.tensorboard import SummaryWriter\n",
    "\n",
    "import sys\n",
    "from utils.commandline import load_config\n",
    "from importlib.machinery import SourceFileLoader\n",
    "from datasets.web_caricature import WebCaricatureDataset\n",
    "from losses.model_losses  import AdversarialLoss, PatchAdversarialLoss\n",
    "from models.model_warpgan import WarpGANGenerator, WarpGANDiscriminator\n",
    "\n",
    "%matplotlib inline\n",
    "\n",
    "# Set random seed for reproducibility\n",
    "manualSeed = 999\n",
    "#manualSeed = random.randint(1, 10000) # use if you want new results\n",
    "print(\"Random Seed: \", manualSeed)\n",
    "random.seed(manualSeed)\n",
    "torch.manual_seed(manualSeed)"
   ]
  },
  {
   "cell_type": "code",
   "execution_count": null,
   "id": "36de6214",
   "metadata": {},
   "outputs": [],
   "source": []
  },
  {
   "cell_type": "code",
   "execution_count": 3,
   "id": "607dac5f",
   "metadata": {},
   "outputs": [],
   "source": [
    "# load configuration file from specified configuration file path\n",
    "config = SourceFileLoader('config', './config/config_train.py').load_module()"
   ]
  },
  {
   "cell_type": "code",
   "execution_count": 4,
   "id": "8a93f19c",
   "metadata": {},
   "outputs": [
    {
     "name": "stdout",
     "output_type": "stream",
     "text": [
      "6128 images of 126 classes loaded.\n",
      "[  0   0   0 ... 125 125 125]\n",
      "Classes 126: 3016 photos, 3112 caricatures\n",
      "\n",
      "Device: cpu\n",
      "\n"
     ]
    }
   ],
   "source": [
    "# We can use an image folder dataset the way we have it setup.\n",
    "# Create the dataset\n",
    "dataset = WebCaricatureDataset(config)\n",
    "\n",
    "# Create the dataloader\n",
    "dataloader = torch.utils.data.DataLoader(dataset, batch_size=config.in_batch, shuffle=True)\n",
    "\n",
    "# Decide which device we want to run on\n",
    "device = torch.device(\"cuda:0\" if (torch.cuda.is_available() and ngpu > 0) else \"cpu\")\n",
    "print(f\"\\nDevice: {device}\\n\")\n"
   ]
  },
  {
   "cell_type": "code",
   "execution_count": null,
   "id": "a9a1ea6f",
   "metadata": {},
   "outputs": [],
   "source": []
  },
  {
   "cell_type": "code",
   "execution_count": null,
   "id": "1cd13849",
   "metadata": {},
   "outputs": [],
   "source": []
  },
  {
   "cell_type": "code",
   "execution_count": 5,
   "id": "44e3e1a2",
   "metadata": {
    "scrolled": false
   },
   "outputs": [],
   "source": [
    "# load model\n",
    "\n",
    "# Create the generator\n",
    "warpgan_generator     = WarpGANGenerator(config).to(device)\n",
    "warpgan_discriminator = WarpGANDiscriminator(config).to(device)\n"
   ]
  },
  {
   "cell_type": "code",
   "execution_count": 6,
   "id": "6525eb0b",
   "metadata": {},
   "outputs": [],
   "source": [
    "# load losses\n",
    "\n",
    "adversarial_loss       = AdversarialLoss(config)\n",
    "patch_adversarial_loss = PatchAdversarialLoss() \n"
   ]
  },
  {
   "cell_type": "code",
   "execution_count": 7,
   "id": "f9835f7a",
   "metadata": {},
   "outputs": [],
   "source": [
    "# Setup Adam optimizers for both G and D\n",
    "\n",
    "optimizerG = optim.Adam(warpgan_generator.parameters(), lr=config.lr, weight_decay=config.weight_decay,\n",
    "                        betas=(config.optimizer[1][\"beta1\"], config.optimizer[1][\"beta2\"]))\n",
    "\n",
    "optimizerD = optim.Adam(warpgan_discriminator.parameters(), lr=config.lr, weight_decay=config.weight_decay,\n",
    "                        betas=(config.optimizer[1][\"beta1\"], config.optimizer[1][\"beta2\"]))\n"
   ]
  },
  {
   "cell_type": "code",
   "execution_count": null,
   "id": "e52bee9e",
   "metadata": {
    "scrolled": false
   },
   "outputs": [],
   "source": [
    "\n",
    "# Training Loop\n",
    "\n",
    "# Lists to keep track of progress\n",
    "img_list = []\n",
    "G_losses = []\n",
    "D_losses = []\n",
    "\n",
    "writer = S\n",
    "\n",
    "# For each epoch\n",
    "for epoch in range(config.num_epochs):\n",
    "    \n",
    "    # For each batch in the dataloader\n",
    "    for i, data in enumerate(dataloader, 0):\n",
    "                \n",
    "        # ------------------------------------------\n",
    "        # Input dicts for Generator and Disciminator\n",
    "        # ------------------------------------------\n",
    "                        \n",
    "        generator_input_dict = {\n",
    "            \n",
    "            \"images_photo\" : data[\"images_photo\"],\n",
    "            \"images_caric\" : data[\"images_caric\"],\n",
    "            \n",
    "            \"labels_photo\" : data[\"labels_photo\"],\n",
    "            \"labels_caric\" : data[\"labels_caric\"],\n",
    "            \n",
    "            \"scales_photo\" : data[\"scales_photo\"],\n",
    "            \"scales_caric\" : data[\"scales_caric\"],\n",
    "            \n",
    "        }\n",
    "        \n",
    "        discriminator_input_dict = {\n",
    "            \n",
    "            \"images_photo\" : data[\"images_photo\"],\n",
    "            \"images_caric\" : data[\"images_caric\"],\n",
    "            \n",
    "            \"generated_caric\": None\n",
    "            \n",
    "        }\n",
    "        \n",
    "        # ------------------------------------------\n",
    "        # Generator Network Forward Pass\n",
    "        # ------------------------------------------\n",
    "                \n",
    "        # forward pass on generator\n",
    "        generator_output = warpgan_generator(generator_input_dict)\n",
    "        \n",
    "        # add generated caricature to discriminator input dict\n",
    "        discriminator_input_dict[\"generated_caric\"] = generator_output[\"generated_caric\"]\n",
    "                \n",
    "        # forward pass on discriminator\n",
    "        discriminator_output = warpgan_discriminator(discriminator_input_dict)\n",
    "                \n",
    "        # adversial losses on generated caricature\n",
    "        \n",
    "        adversial_loss_input_dict = {\n",
    "\n",
    "                \"logits_caric\" : discriminator_output[\"logits_caric\"],\n",
    "                \"logits_photo\" : discriminator_output[\"logits_photo\"],\n",
    "                \"logits_generated_caric\": discriminator_output[\"logits_generated_caric\"],\n",
    "\n",
    "                \"labels_caric\" : generator_input_dict[\"labels_caric\"],\n",
    "                \"labels_photo\" : generator_input_dict[\"labels_photo\"],\n",
    "                \"labels_generated_caric\" : generator_input_dict[\"labels_photo\"],\n",
    "\n",
    "                }\n",
    "                \n",
    "        loss_DA, loss_GA = adversarial_loss(adversial_loss_input_dict)\n",
    "        \n",
    "        loss_DA, loss_GA = config.coef_adv * loss_DA, config.coef_adv * loss_GA\n",
    "        \n",
    "        # patch adversial losses on generated caricature\n",
    "                \n",
    "        loss_DP, loss_GP = patch_adversarial_loss(discriminator_output[\"logits_caric\"],\n",
    "                                                  discriminator_output[\"logits_photo\"],\n",
    "                                                  discriminator_output[\"logits_generated_caric\"])\n",
    "        \n",
    "        loss_DP, loss_GP = config.coef_adv * loss_DP, config.coef_adv * loss_GP\n",
    "        \n",
    "        # identity mapping (reconstruction) loss\n",
    "                \n",
    "        loss_idt_caric = torch.mean(torch.abs(generator_output[\"rendered_caric\"] - generator_input_dict[\"images_caric\"]))\n",
    "        loss_idt_caric = config.coef_idt * loss_idt_caric\n",
    "        \n",
    "        loss_idt_photo = torch.mean(torch.abs(generator_output[\"rendered_photo\"] - generator_input_dict[\"images_photo\"]))\n",
    "        loss_idt_photo = config.coef_idt * loss_idt_photo\n",
    "        \n",
    "        loss_G_idt     = loss_idt_caric + loss_idt_photo\n",
    "        \n",
    "        # collect all losses\n",
    "    \n",
    "        # all losses for generator\n",
    "        loss_G = loss_GA + loss_GP + loss_G_idt\n",
    "        \n",
    "        # all losses for discriminator\n",
    "        loss_D = loss_DA + loss_DP\n",
    "                \n",
    "        # reset gradients of discriminator\n",
    "        warpgan_discriminator.zero_grad()\n",
    "        \n",
    "        # calculate gradients for discriminator\n",
    "        loss_D.backward(retain_graph=True)\n",
    "                \n",
    "        # reset gradients of generator\n",
    "        warpgan_generator.zero_grad()\n",
    "    \n",
    "        # calculate gradients for generator\n",
    "        loss_G.backward()\n",
    "        \n",
    "        # optimize generator for single step\n",
    "        optimizerD.step()\n",
    "        \n",
    "        # optimize generator for single step\n",
    "        optimizerG.step()\n",
    "        \n",
    "        # Output training stats\n",
    "        if i % 1 == 0:\n",
    "            log  = f\"[{epoch}/{config.num_epochs}][{i}/{len(dataloader)}]\\t\"\n",
    "            log += f\"Loss_G: {loss_G}\\t\"\n",
    "            log += f\"Loss_D: {loss_D}\\t\"\n",
    "\n",
    "            print(log)\n",
    "            \n",
    "        # Save Losses for plotting later\n",
    "        G_losses.append(loss_G.item())\n",
    "        D_losses.append(loss_D.item())\n",
    "\n",
    "        # Check how the generator is doing by saving G's output\n",
    "#         if (iters % 500 == 0) or ((epoch == num_epochs-1) and (i == len(dataloader)-1)):\n",
    "            \n",
    "#             with torch.no_grad():\n",
    "#                 fake = netG(fixed_noise).detach().cpu()\n",
    "                \n",
    "#             img_list.append(vutils.make_grid(fake, padding=2, normalize=True))\n",
    "       "
   ]
  },
  {
   "cell_type": "code",
   "execution_count": null,
   "id": "76e3d2b4",
   "metadata": {},
   "outputs": [],
   "source": []
  },
  {
   "cell_type": "code",
   "execution_count": null,
   "id": "42205fc2",
   "metadata": {},
   "outputs": [],
   "source": []
  },
  {
   "cell_type": "code",
   "execution_count": null,
   "id": "edd89105",
   "metadata": {},
   "outputs": [],
   "source": []
  }
 ],
 "metadata": {
  "kernelspec": {
   "display_name": "Python 3 (ipykernel)",
   "language": "python",
   "name": "python3"
  },
  "language_info": {
   "codemirror_mode": {
    "name": "ipython",
    "version": 3
   },
   "file_extension": ".py",
   "mimetype": "text/x-python",
   "name": "python",
   "nbconvert_exporter": "python",
   "pygments_lexer": "ipython3",
   "version": "3.8.12"
  },
  "varInspector": {
   "cols": {
    "lenName": 16,
    "lenType": 16,
    "lenVar": 40
   },
   "kernels_config": {
    "python": {
     "delete_cmd_postfix": "",
     "delete_cmd_prefix": "del ",
     "library": "var_list.py",
     "varRefreshCmd": "print(var_dic_list())"
    },
    "r": {
     "delete_cmd_postfix": ") ",
     "delete_cmd_prefix": "rm(",
     "library": "var_list.r",
     "varRefreshCmd": "cat(var_dic_list()) "
    }
   },
   "types_to_exclude": [
    "module",
    "function",
    "builtin_function_or_method",
    "instance",
    "_Feature"
   ],
   "window_display": false
  }
 },
 "nbformat": 4,
 "nbformat_minor": 5
}
